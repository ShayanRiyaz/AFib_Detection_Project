{
 "cells": [
  {
   "cell_type": "code",
   "execution_count": 25,
   "id": "52dfa02a",
   "metadata": {},
   "outputs": [],
   "source": [
    "# pip install requests datetime numpy  wfdb scipy torch\n"
   ]
  },
  {
   "cell_type": "code",
   "execution_count": 48,
   "id": "2fcfbb26",
   "metadata": {},
   "outputs": [
    {
     "data": {
      "text/plain": [
       "[(0, numpy.ndarray, (1, 1)),\n",
       " (1, numpy.ndarray, (1, 1)),\n",
       " (2, numpy.ndarray, (1, 1)),\n",
       " (3, numpy.ndarray, (1, 1)),\n",
       " (4, numpy.ndarray, (1, 1)),\n",
       " (5, numpy.ndarray, (1, 1)),\n",
       " (6, numpy.ndarray, (1, 1)),\n",
       " (7, numpy.ndarray, (1, 1)),\n",
       " (8, numpy.ndarray, (1, 1)),\n",
       " (9, numpy.ndarray, (1, 1)),\n",
       " (10, numpy.ndarray, (1, 1)),\n",
       " (11, numpy.ndarray, (1, 1)),\n",
       " (12, numpy.ndarray, (1, 1)),\n",
       " (13, numpy.ndarray, (1, 1)),\n",
       " (14, numpy.ndarray, (1, 1)),\n",
       " (15, numpy.ndarray, (1, 1))]"
      ]
     },
     "execution_count": 48,
     "metadata": {},
     "output_type": "execute_result"
    }
   ],
   "source": [
    "import scipy as sp\n",
    "\n",
    "\n",
    "dataset_non_af = sp.io.loadmat('mimic_non_af_data.mat')\n",
    "data_content = dataset_non_af['data']\n",
    "\n",
    "element_summaries = []\n",
    "\n",
    "for i in range(data_content.shape[1]):\n",
    "    element = data_content[0, i]\n",
    "    element_type = type(element)\n",
    "    if hasattr(element, 'dtype'):\n",
    "        element_shape = getattr(element, 'shape', None)\n",
    "    else:\n",
    "        element_shape = None\n",
    "    element_summaries.append((i, element_type, element_shape))\n",
    "element_summaries"
   ]
  },
  {
   "cell_type": "code",
   "execution_count": 49,
   "id": "c1ccfd2a",
   "metadata": {},
   "outputs": [
    {
     "name": "stdout",
     "output_type": "stream",
     "text": [
      "['p000946']\n",
      "['p075796']\n",
      "['p022954']\n",
      "['p025117']\n",
      "['p026377']\n",
      "['p043613']\n",
      "['p050089']\n",
      "['p063039']\n",
      "['p068956']\n",
      "['p069339']\n",
      "['p075371']\n",
      "['p077729']\n",
      "['p087275']\n",
      "['p079998']\n",
      "['p081349']\n",
      "['p085866']\n",
      "['p089565']\n",
      "['p092846']\n",
      "['p094847']\n"
     ]
    }
   ],
   "source": [
    "import scipy as sp\n",
    "\n",
    "\n",
    "dataset_af = sp.io.loadmat('mimic_af_data.mat')\n",
    "data_content_af = dataset_af['data']\n",
    "\n",
    "element_summaries = []\n",
    "\n",
    "for i in range(data_content_af.shape[1]):\n",
    "    element = data_content_af[0, i]\n",
    "    element_type = type(element)\n",
    "    if hasattr(element, 'dtype'):\n",
    "        element_shape = getattr(element, 'shape', None)\n",
    "    else:\n",
    "        element_shape = None\n",
    "    element_summaries.append((i, element_type, element_shape))\n",
    "# element_summaries\n",
    "\n",
    "subj_ids = []\n",
    "for i in data_content_af:\n",
    "        for record in i:\n",
    "            # print(record)\n",
    "            try:\n",
    "                fix_struct = record[0]['fix']             # Access 'fix' field\n",
    "                # print(fix_struct)\n",
    "                subj_id = fix_struct[0][0]['subj_id'][0]  # Drill down to subj_id string\n",
    "                print(fix_struct[0][0]['subj_id'][0])\n",
    "                subj_ids.append(subj_id)\n",
    "            except Exception as e:\n",
    "                print(f\"Skipping entry due to error: {e}\")\n",
    "\n",
    "# print(subj_ids)"
   ]
  },
  {
   "cell_type": "code",
   "execution_count": 34,
   "id": "3dc1d32d",
   "metadata": {},
   "outputs": [
    {
     "data": {
      "text/plain": [
       "array([[array([[(array([[(array(['p000946'], dtype='<U7'), array(['p000946-2120-05-14-08-08'], dtype='<U24'), array(['3462211_0001'], dtype='<U12'), array([[1]]))]],\n",
       "                      dtype=[('subj_id', 'O'), ('rec_id', 'O'), ('files', 'O'), ('af_status', 'O')]), array([[(array([[0.43792766, 0.4340176 , 0.43010753, ..., 0.43206256, 0.43108504,\n",
       "                                0.42913001]], shape=(1, 150000)), array([[125]]), array(['Fingertip PPG recorded using bedside monitor'], dtype='<U44'))]],\n",
       "                      dtype=[('v', 'O'), ('fs', 'O'), ('method', 'O')]), array([[(array([[0.5       , 0.50585938, 0.51953125, ..., 0.50976562, 0.50585938,\n",
       "                                0.515625  ]], shape=(1, 150000)), array([[125]]), array(['ECG recorded using bedside monitor, lead II'], dtype='<U43'), array(['II'], dtype='<U2'))]],\n",
       "                      dtype=[('v', 'O'), ('fs', 'O'), ('method', 'O'), ('label', 'O')]), array([[(array([[0.70415648, 0.68215159, 0.6601467 , ..., 0.02444988, 0.01222494,\n",
       "                                0.        ]], shape=(1, 150000)), array([[125]]), array(['Impedance pneumography respiratory signal recorded at the chest using bedside monitor'],\n",
       "                              dtype='<U85'))                                                                                                                                      ]],\n",
       "                      dtype=[('v', 'O'), ('fs', 'O'), ('method', 'O')]), array([[(array([[185.20220678, 185.20220678, 185.20220678, ..., 185.20220678,\n",
       "                                185.20220678, 185.20220678]], shape=(1, 150000)), array([[125]]), array(['Invasive arterial blood pressure recorded using bedside monitor'],\n",
       "                              dtype='<U63'))                                                                                                                                ]],\n",
       "                      dtype=[('v', 'O'), ('fs', 'O'), ('method', 'O')]))                                                                                                               ]],\n",
       "              dtype=[('fix', 'O'), ('ppg', 'O'), ('ekg', 'O'), ('imp', 'O'), ('abp', 'O')])                                                                                               ,\n",
       "        array([[(array([[(array(['p075371'], dtype='<U7'), array(['p075371-2119-08-22-00-53'], dtype='<U24'), array(['3914721_0011', '3914721_0012'], dtype='<U12'), array([[1]]))]],\n",
       "                      dtype=[('subj_id', 'O'), ('rec_id', 'O'), ('files', 'O'), ('af_status', 'O')]), array([[(array([[0.50439883, 0.49951124, 0.49560117, ..., 0.51124145, 0.51026393,\n",
       "                                0.50928641]], shape=(1, 48875)), array([[125]]), array(['Fingertip PPG recorded using bedside monitor'], dtype='<U44'))]],\n",
       "                      dtype=[('v', 'O'), ('fs', 'O'), ('method', 'O')]), array([[(array([[0.33004926, 0.33004926, 0.32512315, ..., 0.32512315, 0.32019704,\n",
       "                                0.31527094]], shape=(1, 48875)), array([[125]]), array(['ECG recorded using bedside monitor, lead II'], dtype='<U43'), array(['II'], dtype='<U2'))]],\n",
       "                      dtype=[('v', 'O'), ('fs', 'O'), ('method', 'O'), ('label', 'O')]), array([[(array([[0.33579336, 0.34932349, 0.36285363, ..., 0.09717097, 0.0897909 ,\n",
       "                                0.08241082]], shape=(1, 48875)), array([[125]]), array(['Impedance pneumography respiratory signal recorded at the chest using bedside monitor'],\n",
       "                              dtype='<U85'))                                                                                                                                     ]],\n",
       "                      dtype=[('v', 'O'), ('fs', 'O'), ('method', 'O')]), array([[(array([[83.70269429, 83.85914792, 83.85914792, ..., 83.07687975,\n",
       "                                82.45106521, 81.98170431]], shape=(1, 48875)), array([[125]]), array(['Invasive arterial blood pressure recorded using bedside monitor'],\n",
       "                              dtype='<U63'))                                                                                                                             ]],\n",
       "                      dtype=[('v', 'O'), ('fs', 'O'), ('method', 'O')]))                                                                                                               ]],\n",
       "              dtype=[('fix', 'O'), ('ppg', 'O'), ('ekg', 'O'), ('imp', 'O'), ('abp', 'O')])                                                                                               ,\n",
       "        array([[(array([[(array(['p087275'], dtype='<U7'), array(['p087275-2108-08-29-12-53'], dtype='<U24'), array(['3068137_0006'], dtype='<U12'), array([[1]]))]],\n",
       "                      dtype=[('subj_id', 'O'), ('rec_id', 'O'), ('files', 'O'), ('af_status', 'O')]), array([[(array([[0.38807429, 0.42033236, 0.45454545, ..., 0.33235582, 0.32844575,\n",
       "                                0.3255132 ]], shape=(1, 150000)), array([[125]]), array(['Fingertip PPG recorded using bedside monitor'], dtype='<U44'))]],\n",
       "                      dtype=[('v', 'O'), ('fs', 'O'), ('method', 'O')]), array([[(array([[0.16862745, 0.1745098 , 0.17843137, ..., 0.06862745, 0.0627451 ,\n",
       "                                0.0627451 ]], shape=(1, 150000)), array([[125]]), array(['ECG recorded using bedside monitor, lead II'], dtype='<U43'), array(['II'], dtype='<U2'))]],\n",
       "                      dtype=[('v', 'O'), ('fs', 'O'), ('method', 'O'), ('label', 'O')]), array([[(array([[ 0.19805825,  0.18252427,  0.16699029, ..., -0.06019417,\n",
       "                                -0.06213592, -0.06213592]], shape=(1, 150000)), array([[125]]), array(['Impedance pneumography respiratory signal recorded at the chest using bedside monitor'],\n",
       "                              dtype='<U85'))                                                                                                                                                    ]],\n",
       "                      dtype=[('v', 'O'), ('fs', 'O'), ('method', 'O')]), array([[(array([[         nan,          nan,          nan, ..., -14.86311269,\n",
       "                                -14.86311269, -14.86311269]], shape=(1, 150000)), array([[125]]), array(['Invasive arterial blood pressure recorded using bedside monitor'],\n",
       "                              dtype='<U63'))                                                                                                                                ]],\n",
       "                      dtype=[('v', 'O'), ('fs', 'O'), ('method', 'O')]))                                                                                                                           ]],\n",
       "              dtype=[('fix', 'O'), ('ppg', 'O'), ('ekg', 'O'), ('imp', 'O'), ('abp', 'O')])                                                                                                           ,\n",
       "        array([[(array([[(array(['p092846'], dtype='<U7'), array(['p092846-2129-12-21-13-12'], dtype='<U24'), array(['3815371_0004'], dtype='<U12'), array([[1]]))]],\n",
       "                      dtype=[('subj_id', 'O'), ('rec_id', 'O'), ('files', 'O'), ('af_status', 'O')]), array([[(array([[0.47702835, 0.47311828, 0.46920821, ..., 0.46334311, 0.45845552,\n",
       "                                0.45356794]], shape=(1, 150000)), array([[125]]), array(['Fingertip PPG recorded using bedside monitor'], dtype='<U44'))]],\n",
       "                      dtype=[('v', 'O'), ('fs', 'O'), ('method', 'O')]), array([[(array([[0.45510836, 0.4504644 , 0.43962848, ..., 0.35448916, 0.31424149,\n",
       "                                0.28947368]], shape=(1, 150000)), array([[125]]), array(['ECG recorded using bedside monitor, lead II'], dtype='<U43'), array(['II'], dtype='<U2'))]],\n",
       "                      dtype=[('v', 'O'), ('fs', 'O'), ('method', 'O'), ('label', 'O')]), array([[(array([[-0.35240964, -0.34939759, -0.34638554, ..., -0.13554217,\n",
       "                                -0.13253012, -0.12650602]], shape=(1, 150000)), array([[125]]), array(['Impedance pneumography respiratory signal recorded at the chest using bedside monitor'],\n",
       "                              dtype='<U85'))                                                                                                                                                    ]],\n",
       "                      dtype=[('v', 'O'), ('fs', 'O'), ('method', 'O')]), array([[(array([[50.85714286, 50.57142857, 50.28571429, ..., 69.85714286,\n",
       "                                75.42857143, 80.85714286]], shape=(1, 150000)), array([[125]]), array(['Invasive arterial blood pressure recorded using bedside monitor'],\n",
       "                              dtype='<U63'))                                                                                                                              ]],\n",
       "                      dtype=[('v', 'O'), ('fs', 'O'), ('method', 'O')]))                                                                                                                           ]],\n",
       "              dtype=[('fix', 'O'), ('ppg', 'O'), ('ekg', 'O'), ('imp', 'O'), ('abp', 'O')])                                                                                                           ]],\n",
       "      dtype=object)"
      ]
     },
     "execution_count": 34,
     "metadata": {},
     "output_type": "execute_result"
    }
   ],
   "source": [
    "data_content_af"
   ]
  },
  {
   "cell_type": "code",
   "execution_count": null,
   "id": "2d1de60a",
   "metadata": {},
   "outputs": [],
   "source": []
  }
 ],
 "metadata": {
  "kernelspec": {
   "display_name": "AF_DETECTION",
   "language": "python",
   "name": "python3"
  },
  "language_info": {
   "codemirror_mode": {
    "name": "ipython",
    "version": 3
   },
   "file_extension": ".py",
   "mimetype": "text/x-python",
   "name": "python",
   "nbconvert_exporter": "python",
   "pygments_lexer": "ipython3",
   "version": "3.12.9"
  }
 },
 "nbformat": 4,
 "nbformat_minor": 5
}
