{
 "cells": [
  {
   "cell_type": "code",
   "execution_count": null,
   "id": "e55b4477",
   "metadata": {},
   "outputs": [],
   "source": [
    "import numpy as np\n",
    "import scipy.io as sio\n",
    "import h5py\n",
    "import os\n",
    "import random\n",
    "import pandas as pd\n",
    "import matplotlib.pyplot as plt\n",
    "from scipy.signal import firwin, filtfilt, lfilter"
   ]
  },
  {
   "cell_type": "code",
   "execution_count": 30,
   "id": "bbdebc46",
   "metadata": {},
   "outputs": [],
   "source": [
    "folder_of_interest = \"length_full\"\n",
    "ROOT_PATH = f\"../data/processed/{folder_of_interest}/\""
   ]
  },
  {
   "cell_type": "code",
   "execution_count": 31,
   "id": "c0894e6b",
   "metadata": {},
   "outputs": [],
   "source": [
    "FS_IN = 125\n",
    "FACTOR = 6\n",
    "\n",
    "def decimate_signal(x: np.ndarray,\n",
    "                     fs_in: int = 125,\n",
    "                     factor: int = 2,\n",
    "                     cutoff: float = 8.0,\n",
    "                     numtaps: int = 129,\n",
    "                     zero_phase: bool = True) -> np.ndarray:\n",
    "    \"\"\"\n",
    "    Down‑sample a 125 Hz PPG (or similar) trace to ~20.833 Hz.\n",
    "\n",
    "    Parameters\n",
    "    ----------\n",
    "    x          : 1‑D numpy array, the raw signal.\n",
    "    fs_in      : original sampling rate (Hz).  Default 125.\n",
    "    factor     : integer decimation factor.  125 / 6 ≈ 20.833 Hz.\n",
    "    cutoff     : anti‑alias low‑pass cutoff (Hz).\n",
    "                 Should be < 0.8 × new Nyquist ≈ 8 Hz.\n",
    "    numtaps    : FIR length (odd).  Longer ⇒ sharper roll‑off, more latency.\n",
    "    zero_phase : if True (default) use filtfilt for zero phase; else\n",
    "                 use causal lfilter (lower latency, but introduces delay).\n",
    "\n",
    "    Returns\n",
    "    -------\n",
    "    y          : decimated 1‑D numpy array (len(x) // factor samples).\n",
    "    \"\"\"\n",
    "    if x.ndim != 1:\n",
    "        raise ValueError(\"Input must be 1‑D\")\n",
    "\n",
    "    # design low‑pass FIR\n",
    "    h = firwin(numtaps, cutoff, fs=fs_in)\n",
    "\n",
    "    # apply filter\n",
    "    filt = filtfilt if zero_phase else lfilter\n",
    "    x_filt = filt(h, 1.0, x)\n",
    "\n",
    "    # keep every N‑th sample\n",
    "    return x_filt[::factor]"
   ]
  },
  {
   "cell_type": "code",
   "execution_count": 32,
   "id": "18c8713e",
   "metadata": {},
   "outputs": [],
   "source": [
    "# ------------------------------------------------------------------\n",
    "# 1.  Utility that cleans one 1‑D numpy array -----------------------\n",
    "# ------------------------------------------------------------------\n",
    "def clean_signal(arr: np.ndarray) -> np.ndarray | None:\n",
    "    \"\"\"\n",
    "    1) cut off all‑NaN tails at the beginning and end;\n",
    "    2) interpolate NaNs that remain in the interior;\n",
    "    3) return float32 array or None if nothing left.\n",
    "    \"\"\"\n",
    "    if arr.ndim != 1:\n",
    "        raise ValueError(\"signal must be 1‑D\")\n",
    "\n",
    "    ok = ~np.isnan(arr)\n",
    "    if not ok.any():                # whole vector is NaN\n",
    "        return None\n",
    "\n",
    "    # --- trim ---       \n",
    "    first, last = ok.argmax(), len(arr) - ok[::-1].argmax()\n",
    "    arr = arr[first:last].astype(\"float32\")   # copy & cast\n",
    "\n",
    "    # --- interpolate interior NaNs ---       \n",
    "    nan_mask = np.isnan(arr)\n",
    "    if nan_mask.any():\n",
    "        idx    = np.arange(arr.size)\n",
    "        arr[nan_mask] = np.interp(idx[nan_mask],             # x‑coords to fill\n",
    "                                  idx[~nan_mask],            # known x‑coords\n",
    "                                  arr[~nan_mask])            # known values\n",
    "    return arr"
   ]
  },
  {
   "cell_type": "code",
   "execution_count": 33,
   "id": "e3b8bfb8",
   "metadata": {},
   "outputs": [],
   "source": [
    "def convert_mat_to_h5(mat_path, h5_path,fs_in,factor):\n",
    "\n",
    "    print(\"Loading\", mat_path)\n",
    "    mat = sio.loadmat(mat_path, squeeze_me=True, struct_as_record=False)[\"data\"]\n",
    "\n",
    "    with h5py.File(h5_path, \"w\") as h5:\n",
    "        for rec in mat:\n",
    "            g = h5.create_group(str(rec.fix.rec_id))\n",
    "            g.attrs[\"subj_id\"]   = str(rec.fix.subj_id)\n",
    "            g.attrs[\"af_status\"] = int(rec.fix.af_status)\n",
    "\n",
    "            for sig_name in [\"ppg\", \"ekg\", \"imp\", \"abp\"]:\n",
    "                sig_obj = getattr(rec, sig_name, None)\n",
    "                if not hasattr(sig_obj, \"v\"):\n",
    "                    continue\n",
    "\n",
    "                # ---- clean NaNs ----------------------------\n",
    "                data = clean_signal(sig_obj.v)\n",
    "                if data is None:\n",
    "                    continue\n",
    "\n",
    "                # ---- optional decimate for PPG -------------\n",
    "                fs = float(sig_obj.fs)\n",
    "                if sig_name == \"ppg\":\n",
    "                    data = decimate_signal(data, fs_in = fs_in, factor = factor)\n",
    "                    fs   = fs_in / factor            # 20.833 Hz\n",
    "\n",
    "                # ---- write dataset -------------------------\n",
    "                ds = g.create_dataset(sig_name,\n",
    "                                      data=data.astype(\"float32\"),\n",
    "                                      compression=\"gzip\", chunks=True)\n",
    "                ds.attrs[\"fs\"] = fs\n",
    "                for attr in [\"method\", \"label\"]:\n",
    "                    if hasattr(sig_obj, attr):\n",
    "                        ds.attrs[attr] = str(getattr(sig_obj, attr))\n",
    "\n",
    "    print(\"saved\", h5_path)"
   ]
  },
  {
   "cell_type": "markdown",
   "id": "ffc5c0d9",
   "metadata": {},
   "source": [
    "## Convert NSR Data from Mat to H5"
   ]
  },
  {
   "cell_type": "code",
   "execution_count": 34,
   "id": "0dc164cd",
   "metadata": {},
   "outputs": [
    {
     "name": "stdout",
     "output_type": "stream",
     "text": [
      "Loading ../data/processed/length_full/mimic_non_af_data.mat\n",
      "saved ../data/processed/length_full/mimic_non_af_data.h5\n"
     ]
    }
   ],
   "source": [
    "folder_of_interest = \"length_full\"\n",
    "NSR_MAT_PATH = os.path.join(ROOT_PATH,\"mimic_non_af_data.mat\")\n",
    "NSR_H5_PATH  = os.path.join(ROOT_PATH,\"mimic_non_af_data.h5\")\n",
    "\n",
    "convert_mat_to_h5(NSR_MAT_PATH,NSR_H5_PATH,fs_in = FS_IN,factor=FACTOR)"
   ]
  },
  {
   "cell_type": "code",
   "execution_count": 35,
   "id": "6aec74bf",
   "metadata": {},
   "outputs": [
    {
     "name": "stdout",
     "output_type": "stream",
     "text": [
      "Number of recordings: 16\n",
      "First 3 group IDs: ['p004829-2103-08-30-21-52', 'p013072-2194-01-22-16-13', 'p015852-2148-05-03-18-39']\n",
      "\n",
      "Inspecting group: p004829-2103-08-30-21-52\n",
      "  dataset 'ekg': shape=(4286652,), fs=125.0\n",
      "  dataset 'imp': shape=(4286660,), fs=125.0\n",
      "  dataset 'ppg': shape=(714444,), fs=20.833333333333332\n"
     ]
    },
    {
     "data": {
      "image/png": "[encoded data removed]",
      "text/plain": [
       "<Figure size 1000x300 with 1 Axes>"
      ]
     },
     "metadata": {},
     "output_type": "display_data"
    }
   ],
   "source": [
    "with h5py.File(NSR_H5_PATH, \"r\") as h5:\n",
    "    groups = list(h5.keys())\n",
    "    print(\"Number of recordings:\", len(groups))\n",
    "    print(\"First 3 group IDs:\", groups[:3])\n",
    "    first = groups[0]\n",
    "    print(\"\\nInspecting group:\", first)\n",
    "    for k, ds in h5[first].items():\n",
    "        print(f\"  dataset '{k}': shape={ds.shape}, fs={ds.attrs['fs']}\")\n",
    "        if k == 'ppg':\n",
    "            fs   = ds.attrs[\"fs\"]          # sampling rate\n",
    "            sig  = ds[:]                  # load the whole signal\n",
    "            t    = np.arange(len(sig)) / fs\n",
    "\n",
    "            nan_mask = np.isnan(sig)        # True where value is NaN\n",
    "            plt.figure(figsize=(10,3))\n",
    "            plt.plot(t, sig)\n",
    "            plt.scatter(t[nan_mask], np.ones(len(sig[nan_mask])), color=\"r\", s=5)\n",
    "            plt.title(f\"{first} – PPG\")\n",
    "            plt.xlabel(\"Time (s)\")\n",
    "            plt.ylabel(\"Amplitude\")\n",
    "            plt.tight_layout()\n",
    "            plt.ylim((-2,2))\n",
    "            plt.show()\n",
    "\n",
    "with h5py.File(NSR_H5_PATH, \"r\") as h5:\n",
    "    grp   = h5[\"p004829-2103-08-30-21-52\"]\n",
    "    ekg   = grp[\"ekg\"][:]          # NumPy array\n",
    "    fs    = grp[\"ekg\"].attrs[\"fs\"] # 125 Hz\n",
    "    label = grp.attrs[\"af_status\"] # 0 = non‑AF"
   ]
  },
  {
   "cell_type": "markdown",
   "id": "d8aef70c",
   "metadata": {},
   "source": [
    "## Convert AF Data from Mat to H5"
   ]
  },
  {
   "cell_type": "code",
   "execution_count": 36,
   "id": "28cb96d1",
   "metadata": {},
   "outputs": [
    {
     "name": "stdout",
     "output_type": "stream",
     "text": [
      "Loading ../data/processed/length_full/mimic_af_data.mat\n",
      "saved ../data/processed/length_full/mimic_af_data.h5\n"
     ]
    }
   ],
   "source": [
    "AF_MAT_PATH = os.path.join(ROOT_PATH,\"mimic_af_data.mat\")\n",
    "AF_H5_PATH    = os.path.join(ROOT_PATH,\"mimic_af_data.h5\")\n",
    "\n",
    "convert_mat_to_h5(AF_MAT_PATH,AF_H5_PATH,fs_in = 125,factor=2)"
   ]
  },
  {
   "cell_type": "code",
   "execution_count": 37,
   "id": "bcf9b1d7",
   "metadata": {},
   "outputs": [
    {
     "name": "stdout",
     "output_type": "stream",
     "text": [
      "Number of recordings: 19\n",
      "First 3 group IDs: ['p000946-2120-05-14-08-08', 'p022954-2136-02-29-17-52', 'p025117-2202-03-15-20-28']\n",
      "\n",
      "Inspecting group: p000946-2120-05-14-08-08\n",
      "  dataset 'abp': shape=(1405375,), fs=125.0\n",
      "  dataset 'ekg': shape=(1405375,), fs=125.0\n",
      "  dataset 'imp': shape=(1405375,), fs=125.0\n",
      "  dataset 'ppg': shape=(702688,), fs=62.5\n"
     ]
    },
    {
     "data": {
      "image/png": "[encoded data removed]",
      "text/plain": [
       "<Figure size 1000x300 with 1 Axes>"
      ]
     },
     "metadata": {},
     "output_type": "display_data"
    },
    {
     "name": "stdout",
     "output_type": "stream",
     "text": [
      "/\n"
     ]
    }
   ],
   "source": [
    "with h5py.File(AF_H5_PATH, \"r\") as h5:\n",
    "    groups = list(h5.keys())\n",
    "    print(\"Number of recordings:\", len(groups))\n",
    "    print(\"First 3 group IDs:\", groups[:3])\n",
    "    first = groups[0]\n",
    "    print(\"\\nInspecting group:\", first)\n",
    "    for k, ds in h5[first].items():\n",
    "        print(f\"  dataset '{k}': shape={ds.shape}, fs={ds.attrs['fs']}\")\n",
    "        if k == 'ppg':\n",
    "            fs   = ds.attrs[\"fs\"]          # sampling rate\n",
    "            sig  = ds[:]                  # load the whole signal\n",
    "            t    = np.arange(len(sig)) / fs\n",
    "\n",
    "            nan_mask = np.isnan(sig)        # True where value is NaN\n",
    "            plt.figure(figsize=(10,3))\n",
    "            plt.plot(t, sig)\n",
    "            plt.scatter(t[nan_mask], np.ones(len(sig[nan_mask])), color=\"r\", s=5)\n",
    "            plt.title(f\"{first} – PPG\")\n",
    "            plt.xlabel(\"Time (s)\")\n",
    "            plt.ylabel(\"Amplitude\")\n",
    "            plt.tight_layout()\n",
    "            plt.ylim((-2,2))\n",
    "            plt.show()\n",
    "\n",
    "with h5py.File(AF_H5_PATH, \"r\") as h5:\n",
    "    print(h5.name)\n",
    "    grp   = h5[\"p000946-2120-05-14-08-08\"]\n",
    "    ekg   = grp[\"ekg\"][:]          # NumPy array\n",
    "    fs    = grp[\"ekg\"].attrs[\"fs\"] # 125 Hz\n",
    "    label = grp.attrs[\"af_status\"] # 0 = non‑AF\n"
   ]
  },
  {
   "cell_type": "code",
   "execution_count": 38,
   "id": "8ca159fe",
   "metadata": {},
   "outputs": [],
   "source": [
    "def build_split_h5(src_paths, out_path, selected_ids):\n",
    "    \"\"\"\n",
    "    Copy only groups in selected_ids from each src H5 into a new H5 at out_path,\n",
    "    preserving all dataset contents and attributes.\n",
    "    \"\"\"\n",
    "    with h5py.File(out_path, 'w') as dst:\n",
    "        for src_path in src_paths:\n",
    "            with h5py.File(src_path, 'r') as src:\n",
    "                for gid, grp in src.items():\n",
    "                    if gid not in selected_ids:\n",
    "                        continue\n",
    "                    # replicate group\n",
    "                    dst_grp = dst.create_group(gid)\n",
    "                    # copy group attrs\n",
    "                    for k, v in grp.attrs.items():\n",
    "                        dst_grp.attrs[k] = v\n",
    "                    # copy every dataset in that group\n",
    "                    for ds_name, ds in grp.items():\n",
    "                        if not isinstance(ds, h5py.Dataset):\n",
    "                            continue\n",
    "                        data = ds[()]  # read full array into memory\n",
    "                        dst_ds = dst_grp.create_dataset(\n",
    "                            ds_name,\n",
    "                            data=data,\n",
    "                            compression='gzip',\n",
    "                            chunks=True\n",
    "                        )\n",
    "                        # copy dataset attributes\n",
    "                        for ak, av in ds.attrs.items():\n",
    "                            dst_ds.attrs[ak] = av"
   ]
  },
  {
   "cell_type": "code",
   "execution_count": 39,
   "id": "b78bf1e9",
   "metadata": {},
   "outputs": [
    {
     "name": "stdout",
     "output_type": "stream",
     "text": [
      "split\n",
      "train    28\n",
      "test      7\n",
      "Name: count, dtype: int64\n",
      "train_ds.h5 and test_ds.h5 created.\n"
     ]
    }
   ],
   "source": [
    "OUT_H5_TRAIN  = os.path.join(ROOT_PATH,\"train_ds.h5\")\n",
    "OUT_H5_TEST   = os.path.join(ROOT_PATH,\"test_ds.h5\")\n",
    "\n",
    "TRAIN_RATIO = 0.8\n",
    "RNG_SEED    = 42\n",
    "\n",
    "# ── helper to collect all groups with labels ────────────────────\n",
    "def collect_groups(path: str, label: int):\n",
    "    rows = []\n",
    "    with h5py.File(path, 'r') as h5:\n",
    "        for gid in h5:\n",
    "            subj = str(h5[gid].attrs.get('subj_id', gid.split('-')[0]))\n",
    "            rows.append(dict(file=path, group_id=gid, subj_id=subj, label=label))\n",
    "    return rows\n",
    "\n",
    "# ── build a DataFrame and stratified split by subject ───────────\n",
    "rows = collect_groups(NSR_H5_PATH, 0) + collect_groups(AF_H5_PATH, 1)\n",
    "meta = pd.DataFrame(rows)\n",
    "\n",
    "random.seed(RNG_SEED)\n",
    "subjects = meta.subj_id.unique().tolist()\n",
    "random.shuffle(subjects)\n",
    "cut = int(len(subjects) * TRAIN_RATIO)\n",
    "train_subj = set(subjects[:cut])\n",
    "\n",
    "meta['split'] = np.where(meta.subj_id.isin(train_subj), 'train', 'test')\n",
    "print(meta.split.value_counts())\n",
    "\n",
    "# ── re‑use your previously defined build_split_h5 ───────────────\n",
    "def build_split_h5(src_paths, out_path, selected_ids):\n",
    "    if os.path.exists(out_path):\n",
    "        os.remove(out_path)\n",
    "    with h5py.File(out_path, 'w') as dst:\n",
    "        for src_path in src_paths:\n",
    "            with h5py.File(src_path, 'r') as src:\n",
    "                for gid, grp in src.items():\n",
    "                    if gid not in selected_ids:\n",
    "                        continue\n",
    "                    # copy entire group (datasets + attrs)\n",
    "                    src.copy(grp, dst, name=gid, without_attrs=False)\n",
    "                    # then ensure our 'label' attr is set/overwritten:\n",
    "                    dst[gid].attrs['label'] = int(grp.attrs.get('af_status', grp.attrs.get('label', 0)))\n",
    "\n",
    "# ── extract group IDs per split and write out ────────────────────\n",
    "train_ids = meta.loc[meta.split=='train', 'group_id'].tolist()\n",
    "test_ids  = meta.loc[meta.split=='test',  'group_id'].tolist()\n",
    "\n",
    "build_split_h5([NSR_H5_PATH, AF_H5_PATH], OUT_H5_TRAIN, train_ids)\n",
    "build_split_h5([NSR_H5_PATH, AF_H5_PATH], OUT_H5_TEST,  test_ids)\n",
    "\n",
    "print(\"train_ds.h5 and test_ds.h5 created.\")"
   ]
  },
  {
   "cell_type": "code",
   "execution_count": 44,
   "id": "9c72a523",
   "metadata": {},
   "outputs": [
    {
     "name": "stdout",
     "output_type": "stream",
     "text": [
      "(702688,)\n",
      "1\n"
     ]
    }
   ],
   "source": [
    "t1 = h5py.File(OUT_H5_TRAIN, 'r', swmr=True)\n",
    "idxs = list(t1.keys())\n",
    "print(t1[idxs[0]]['ppg'][:].astype('float32').shape)\n",
    "print(t1[idxs[0]].attrs.get('af_status'))"
   ]
  }
 ],
 "metadata": {
  "kernelspec": {
   "display_name": "heart_rhythm_applications",
   "language": "python",
   "name": "python3"
  },
  "language_info": {
   "codemirror_mode": {
    "name": "ipython",
    "version": 3
   },
   "file_extension": ".py",
   "mimetype": "text/x-python",
   "name": "python",
   "nbconvert_exporter": "python",
   "pygments_lexer": "ipython3",
   "version": "3.12.2"
  }
 },
 "nbformat": 4,
 "nbformat_minor": 5
}
